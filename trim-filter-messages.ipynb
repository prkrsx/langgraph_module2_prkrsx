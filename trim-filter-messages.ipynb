{
 "cells": [
  {
   "cell_type": "markdown",
   "id": "fb0ebaf1",
   "metadata": {},
   "source": [
    "[![Open in Colab](https://colab.research.google.com/assets/colab-badge.svg)](https://colab.research.google.com/github/langchain-ai/langchain-academy/blob/main/module-2/trim-filter-messages.ipynb) [![Open in LangChain Academy](https://cdn.prod.website-files.com/65b8cd72835ceeacd4449a53/66e9eba12c7b7688aa3dbb5e_LCA-badge-green.svg)](https://academy.langchain.com/courses/take/intro-to-langgraph/lessons/58239435-lesson-4-trim-and-filter-messages)"
   ]
  },
  {
   "cell_type": "markdown",
   "id": "c52ea2f9-03ff-4647-b782-46867ebed04e",
   "metadata": {},
   "source": [
    "# Filtering and trimming messages\n",
    "\n",
    "## Review\n",
    "\n",
    "Now, we have a deeper understanding of a few things: \n",
    "\n",
    "* How to customize the graph state schema\n",
    "* How to define custom state reducers\n",
    "* How to use multiple graph state schemas\n",
    "\n",
    "## Goals\n",
    "\n",
    "Now, we can start using these concepts with models in LangGraph!\n",
    " \n",
    "In the next few sessions, we'll build towards a chatbot that has long-term memory.\n",
    "\n",
    "Because our chatbot will use messages, let's first talk a bit more about advanced ways to work with messages in graph state."
   ]
  },
  {
   "cell_type": "code",
   "execution_count": 1,
   "id": "d5197aba-5d46-421b-ae3b-4e3034edcfda",
   "metadata": {},
   "outputs": [],
   "source": [
    "%%capture --no-stderr\n",
    "%pip install --quiet -U langchain_core langgraph langchain_openai"
   ]
  },
  {
   "cell_type": "code",
   "execution_count": 2,
   "id": "768dc606-d5f2-468d-96ea-910b264e0f8a",
   "metadata": {},
   "outputs": [],
   "source": [
    "import os, getpass\n",
    "\n",
    "def _set_env(var: str):\n",
    "    if not os.environ.get(var):\n",
    "        os.environ[var] = getpass.getpass(f\"{var}: \")\n",
    "\n",
    "_set_env(\"OPENAI_API_KEY\")"
   ]
  },
  {
   "cell_type": "markdown",
   "id": "8b64d8d3-e4ac-4961-bdc0-688825eb5864",
   "metadata": {},
   "source": [
    "We'll use [LangSmith](https://docs.smith.langchain.com/) for [tracing](https://docs.smith.langchain.com/concepts/tracing).\n",
    "\n",
    "We'll log to a project, `langchain-academy`. "
   ]
  },
  {
   "cell_type": "code",
   "execution_count": 3,
   "id": "dd020c79",
   "metadata": {},
   "outputs": [],
   "source": [
    "_set_env(\"LANGSMITH_API_KEY\")\n",
    "os.environ[\"LANGSMITH_TRACING\"] = \"true\"\n",
    "os.environ[\"LANGSMITH_PROJECT\"] = \"langchain-academy\""
   ]
  },
  {
   "cell_type": "markdown",
   "id": "72f3fc90-58b6-4f7f-897e-dddf6ae532c7",
   "metadata": {},
   "source": [
    "## Messages as state\n",
    "\n",
    "First, let's define some messages."
   ]
  },
  {
   "cell_type": "code",
   "execution_count": 6,
   "id": "cf11a463-e27a-4a05-b41d-64882e38edca",
   "metadata": {},
   "outputs": [
    {
     "name": "stdout",
     "output_type": "stream",
     "text": [
      "==================================\u001b[1m Ai Message \u001b[0m==================================\n",
      "Name: Bot\n",
      "\n",
      "So you said you were researching reading people?\n",
      "================================\u001b[1m Human Message \u001b[0m=================================\n",
      "Name: Lance\n",
      "\n",
      "Yes, I was. But what's something else I should learn about?\n"
     ]
    }
   ],
   "source": [
    "from pprint import pprint\n",
    "from langchain_core.messages import AIMessage, HumanMessage\n",
    "chat_log = [AIMessage(f\"So you said you were researching reading people?\", name=\"Bot\")]\n",
    "chat_log.append(HumanMessage(f\"Yes, I was. But what's something else I should learn about?\", name=\"Lance\"))\n",
    "\n",
    "for m in chat_log:\n",
    "    m.pretty_print()"
   ]
  },
  {
   "cell_type": "markdown",
   "id": "b814adcb-6bf9-4b75-be11-e59f933fbd0c",
   "metadata": {},
   "source": [
    "Recall we can pass them to a chat model."
   ]
  },
  {
   "cell_type": "code",
   "execution_count": 7,
   "id": "4712e288-e622-48a2-ad3f-a52f65f3ab08",
   "metadata": {},
   "outputs": [
    {
     "data": {
      "text/plain": [
       "AIMessage(content='Nice — here are several useful directions you could pick next, with why they matter and a quick way to get started. Pick one that matches your goals (relationships, influence, job performance, safety, etc.).\\n\\n1. Emotional intelligence (EQ)\\n   - Why: Helps you understand and manage your own emotions and respond better to others.\\n   - Start: Read Daniel Goleman’s Emotional Intelligence or take a short online EQ assessment and practice labeling your emotions daily.\\n\\n2. Active listening & conversational skills\\n   - Why: Makes “reading people” much more accurate and builds trust.\\n   - Start: Practice reflective listening (repeat back meaning, not words) in one conversation per day; watch short videos on active listening.\\n\\n3. Nonverbal communication / body language\\n   - Why: Gives context to speech and emotional states.\\n   - Start: Read Joe Navarro’s What Every BODY is Saying and do a week-long observation exercise (note posture, gestures, proxemics in neutral settings).\\n\\n4. Microexpressions and facial signals\\n   - Why: Can reveal fleeting emotions you might otherwise miss — but learn cautiously: it’s not foolproof.\\n   - Start: Try a reputable course on microexpressions (Paul Ekman Group) and practice with short videos.\\n\\n5. Persuasion & influence\\n   - Why: Useful for negotiation, leadership, sales, and motivation.\\n   - Start: Read Robert Cialdini’s Influence or watch summaries of his six principles; try applying one principle ethically in a low-stakes situation.\\n\\n6. Negotiation\\n   - Why: Practical skill for work and personal life where outcomes matter.\\n   - Start: Read Never Split the Difference (Chris Voss) and practice one tactical empathy technique in your next negotiation.\\n\\n7. Social psychology and group dynamics\\n   - Why: Explains why people behave differently in groups vs alone.\\n   - Start: Take a short Coursera/Yale intro to social psychology course or read classic experiments (conformity, obedience, social identity).\\n\\n8. Cognitive biases & decision-making\\n   - Why: Helps you avoid misreading people based on systematic mental errors.\\n   - Start: Read Thinking, Fast and Slow (Kahneman) or a concise biases cheat-sheet and test yourself on a few common biases.\\n\\n9. Cultural competence\\n   - Why: Improves accuracy when interacting with people from different backgrounds.\\n   - Start: Learn basic cultural norms for groups you interact with and ask open questions rather than assuming.\\n\\n10. Critical thinking & skepticism\\n    - Why: Protects you from overinterpreting cues and from manipulation.\\n    - Start: Practice asking “What evidence would change my mind?” and follow a short critical-thinking course.\\n\\nA quick ethics note: learning to “read” or influence people carries responsibility — use these skills to build better, more honest relationships, not to manipulate.\\n\\nTell me which of these appeals to you (goal or context), and I’ll suggest a 4-week learning plan and concrete exercises.', additional_kwargs={'refusal': None}, response_metadata={'token_usage': {'completion_tokens': 1001, 'prompt_tokens': 39, 'total_tokens': 1040, 'completion_tokens_details': {'accepted_prediction_tokens': 0, 'audio_tokens': 0, 'reasoning_tokens': 384, 'rejected_prediction_tokens': 0}, 'prompt_tokens_details': {'audio_tokens': 0, 'cached_tokens': 0}}, 'model_provider': 'openai', 'model_name': 'gpt-5-mini-2025-08-07', 'system_fingerprint': None, 'id': 'chatcmpl-CTt83J5ahpNqyemFoHofzV8bP6q1u', 'service_tier': 'default', 'finish_reason': 'stop', 'logprobs': None}, id='lc_run--61a85d2b-39b2-476d-931b-6b46e97e619e-0', usage_metadata={'input_tokens': 39, 'output_tokens': 1001, 'total_tokens': 1040, 'input_token_details': {'audio': 0, 'cache_read': 0}, 'output_token_details': {'audio': 0, 'reasoning': 384}})"
      ]
     },
     "execution_count": 7,
     "metadata": {},
     "output_type": "execute_result"
    }
   ],
   "source": [
    "from langchain_openai import ChatOpenAI\n",
    "llm = ChatOpenAI(model=\"gpt-5-mini\")\n",
    "llm.invoke(chat_log)"
   ]
  },
  {
   "cell_type": "markdown",
   "id": "fbd1dab8-0af8-4621-8264-ce65065f76ec",
   "metadata": {},
   "source": [
    "We can run our chat model in a simple graph with `MessagesState`."
   ]
  },
  {
   "cell_type": "code",
   "execution_count": 10,
   "id": "bbd8c39c-633b-4176-9cc6-8318e42bb5dd",
   "metadata": {},
   "outputs": [
    {
     "data": {
      "image/png": "[encoded data removed]",
      "text/plain": [
       "<IPython.core.display.Image object>"
      ]
     },
     "metadata": {},
     "output_type": "display_data"
    }
   ],
   "source": [
    "from IPython.display import Image, display\n",
    "from langgraph.graph import MessagesState\n",
    "from langgraph.graph import StateGraph, START, END\n",
    "\n",
    "# Node\n",
    "def chat_model_node(state: MessagesState):\n",
    "    return {\"messages\": llm.invoke(state[\"messages\"])}\n",
    "\n",
    "# Build graph\n",
    "builder = StateGraph(MessagesState)\n",
    "builder.add_node(\"chat_model\", chat_model_node)\n",
    "builder.add_edge(START, \"chat_model\")\n",
    "builder.add_edge(\"chat_model\", END)\n",
    "graph = builder.compile()\n",
    "\n",
    "# View\n",
    "display(Image(graph.get_graph().draw_mermaid_png()))"
   ]
  },
  {
   "cell_type": "code",
   "execution_count": 11,
   "id": "3a5a3e4a-ccfd-4d14-81f1-f0de6e11a1e4",
   "metadata": {},
   "outputs": [
    {
     "name": "stdout",
     "output_type": "stream",
     "text": [
      "==================================\u001b[1m Ai Message \u001b[0m==================================\n",
      "Name: Bot\n",
      "\n",
      "So you said you were researching reading people?\n",
      "================================\u001b[1m Human Message \u001b[0m=================================\n",
      "Name: Lance\n",
      "\n",
      "Yes, I was. But what's something else I should learn about?\n",
      "==================================\u001b[1m Ai Message \u001b[0m==================================\n",
      "\n",
      "Good question — here are several useful, high-impact areas you could learn next, with why each is valuable and a quick way to get started. Pick any that sounds interesting and I’ll give a tailored plan.\n",
      "\n",
      "1) Learning how to learn (meta-learning)\n",
      "- Why: Makes every future skill easier to acquire.\n",
      "- Start: Read \"Make It Stick\" or follow a short course on spaced repetition, active recall, and deliberate practice (e.g., Coursera/edX).\n",
      "\n",
      "2) Emotional intelligence (EQ) & active listening\n",
      "- Why: Deepens relationships and boosts leadership; pairs well with reading people.\n",
      "- Start: Practice reflective listening in daily conversations and track three emotional reactions per day.\n",
      "\n",
      "3) Persuasion & negotiation\n",
      "- Why: Useful in work, sales, conflict resolution, and getting what you want ethically.\n",
      "- Start: Read Robert Cialdini’s \"Influence\" or do role-play negotiation exercises (BATNA, anchoring).\n",
      "\n",
      "4) Critical thinking & decision-making\n",
      "- Why: Helps evaluate information, avoid biases, make better choices.\n",
      "- Start: Learn common cognitive biases and practice mapping arguments (pros/cons, assumptions).\n",
      "\n",
      "5) Memory techniques (mnemonics, spaced repetition)\n",
      "- Why: Improves learning speed and recall for any subject.\n",
      "- Start: Learn the loci/memory palace and use Anki for spaced repetition.\n",
      "\n",
      "6) Personal finance & investing\n",
      "- Why: Financial literacy compounds freedom and options over time.\n",
      "- Start: Learn budgeting, emergency fund, low-cost index investing (Vanguard/Schwab), and basic tax principles.\n",
      "\n",
      "7) Basic programming & data literacy (Python + data analysis)\n",
      "- Why: Widely useful for automating tasks, analyzing information, and career opportunities.\n",
      "- Start: Do a short Python course (Automate the Boring Stuff) and a beginner pandas tutorial.\n",
      "\n",
      "8) Mindfulness & stress management\n",
      "- Why: Improves focus, emotional regulation, decision quality, and wellbeing.\n",
      "- Start: Try a 10-minute daily guided meditation (Headspace/Insight Timer) for a month.\n",
      "\n",
      "If you tell me your goals (career, relationships, curiosity, fitness, etc.), I can narrow this to the best next step and give a 30-day learning plan. Which of these interests you most?\n"
     ]
    }
   ],
   "source": [
    "output = graph.invoke({'messages': chat_log})\n",
    "for m in output['messages']:\n",
    "    m.pretty_print()"
   ]
  },
  {
   "cell_type": "markdown",
   "id": "34c33e63-1ef4-412d-bb10-6a1b9e5b35a7",
   "metadata": {},
   "source": [
    "## Reducer\n",
    "\n",
    "A practical challenge when working with messages is managing long-running conversations. \n",
    "\n",
    "Long-running conversations result in high token usage and latency if we are not careful, because we pass a growing list of messages to the model.\n",
    "\n",
    "We have a few ways to address this.\n",
    "\n",
    "First, recall the trick we saw using `RemoveMessage` and the `add_messages` reducer."
   ]
  },
  {
   "cell_type": "code",
   "execution_count": 12,
   "id": "222c6bc5-bb0e-4a43-80f5-c8ec38d99f3a",
   "metadata": {},
   "outputs": [
    {
     "data": {
      "image/png": "[encoded data removed]",
      "text/plain": [
       "<IPython.core.display.Image object>"
      ]
     },
     "metadata": {},
     "output_type": "display_data"
    }
   ],
   "source": [
    "from langchain_core.messages import RemoveMessage\n",
    "\n",
    "# Nodes\n",
    "def filter_messages(state: MessagesState):\n",
    "    # Delete all but the 2 most recent messages\n",
    "    delete_messages = [RemoveMessage(id=m.id) for m in state[\"messages\"][:-2]]\n",
    "    return {\"messages\": delete_messages}\n",
    "\n",
    "def chat_model_node(state: MessagesState):    \n",
    "    return {\"messages\": [llm.invoke(state[\"messages\"])]}\n",
    "\n",
    "# Build graph\n",
    "builder = StateGraph(MessagesState)\n",
    "builder.add_node(\"filter\", filter_messages)\n",
    "builder.add_node(\"chat_model\", chat_model_node)\n",
    "builder.add_edge(START, \"filter\")\n",
    "builder.add_edge(\"filter\", \"chat_model\")\n",
    "builder.add_edge(\"chat_model\", END)\n",
    "graph = builder.compile()\n",
    "\n",
    "# View\n",
    "display(Image(graph.get_graph().draw_mermaid_png()))"
   ]
  },
  {
   "cell_type": "code",
   "execution_count": 13,
   "id": "95a7c2cc-54ce-43e7-9a90-abf37827d709",
   "metadata": {},
   "outputs": [
    {
     "name": "stdout",
     "output_type": "stream",
     "text": [
      "==================================\u001b[1m Ai Message \u001b[0m==================================\n",
      "Name: Bot\n",
      "\n",
      "So you said you were researching reading people?\n",
      "================================\u001b[1m Human Message \u001b[0m=================================\n",
      "Name: Lance\n",
      "\n",
      "Yes, I was. But what's something else I should learn about?\n",
      "==================================\u001b[1m Ai Message \u001b[0m==================================\n",
      "\n",
      "Good — here are several useful directions you could learn next, organized by type. Each item has a short why and a quick way to get started.\n",
      "\n",
      "Social / interpersonal\n",
      "- Negotiation and persuasion — helps you get better outcomes in work and relationships. Start: read Never Split the Difference (Chris Voss) and practice small negotiations (prices, schedules).\n",
      "- Active listening & conflict resolution — makes reading people more actionable and builds trust. Start: practice reflective listening (repeat/paraphrase), take a short conflict-resolution or counseling-skills workshop.\n",
      "\n",
      "Thinking & decision-making\n",
      "- Mental models & critical thinking — improves judgement across domains. Start: read a primer (e.g., Farnam Street blog or Mental Models books) and apply one model per week to decisions.\n",
      "- Probabilistic thinking & forecasting — reduces overconfidence and improves predictions. Start: read Superforecasting (Tetlock) and try a prediction platform (Good Judgment Open).\n",
      "\n",
      "Psychology & behavior\n",
      "- Cognitive biases & behavior change — helps you understand why people (including you) act irrationally. Start: read Thinking, Fast and Slow (Kahneman) or Predictably Irrational (Ariely), and track a bias you notice each day.\n",
      "- Behavioral economics — useful for product design, persuasion, policy. Start: short Coursera course or read Nudge.\n",
      "\n",
      "Learning & memory\n",
      "- Meta-learning / learning how to learn — accelerates mastery of new skills. Start: read Make It Stick or take Coursera’s Learning How to Learn; apply spaced repetition (Anki).\n",
      "- Memory techniques (memory palace, mnemonics) — helpful for recall and presentations. Start: read Moonwalking with Einstein and practice memorizing short lists.\n",
      "\n",
      "Analytical / technical\n",
      "- Data literacy & basic statistics — lets you make evidence-based decisions. Start: a beginner statistics or data-analysis course (Coursera, DataCamp) and practice on small datasets.\n",
      "- Coding / automation — saves time and opens new capabilities. Start: learn Python basics (Automate the Boring Stuff with Python).\n",
      "\n",
      "Personal effectiveness & wellbeing\n",
      "- Emotional regulation & resilience — keeps you effective under stress. Start: mindfulness or CBT-based exercises, or read Emotional Agility (Susan David).\n",
      "- Time management & focus (deep work) — improves productivity. Start: read Deep Work (Cal Newport) and do 90-minute focused sessions.\n",
      "\n",
      "If you want one recommendation: if you’re already studying “reading people,” I’d suggest learning negotiation/persuasion next — it makes the insight you gain actually useful.\n",
      "\n",
      "Which of these appeals most, and how much time do you want to invest? I can give a 30‑day plan for any single topic.\n"
     ]
    }
   ],
   "source": [
    "# Message list with a preamble\n",
    "chat_track = [AIMessage(\"Hi.\", name=\"Bot\", id=\"1\")]\n",
    "chat_track.append(HumanMessage(\"Hi.\", name=\"Lance\", id=\"2\"))\n",
    "chat_track.append(AIMessage(\"So you said you were researching reading people?\", name=\"Bot\", id=\"3\"))\n",
    "chat_track.append(HumanMessage(\"Yes, I was. But what's something else I should learn about?\", name=\"Lance\", id=\"4\"))\n",
    "\n",
    "# Invoke\n",
    "output = graph.invoke({'messages': chat_track})\n",
    "for m in output['messages']:\n",
    "    m.pretty_print()"
   ]
  },
  {
   "cell_type": "markdown",
   "id": "f506457d-014b-4fee-a684-e5edfb4b8f0d",
   "metadata": {},
   "source": [
    "## Filtering messages\n",
    "\n",
    "If you don't need or want to modify the graph state, you can just filter the messages you pass to the chat model.\n",
    "\n",
    "For example, just pass in a filtered list: `llm.invoke(messages[-1:])` to the model."
   ]
  },
  {
   "cell_type": "code",
   "execution_count": 11,
   "id": "22d0b904-7cd6-486b-8948-105bee3d4683",
   "metadata": {},
   "outputs": [
    {
     "data": {
      "image/jpeg": "[encoded data removed]",
      "text/plain": [
       "<IPython.core.display.Image object>"
      ]
     },
     "metadata": {},
     "output_type": "display_data"
    }
   ],
   "source": [
    "# Node\n",
    "def chat_model_node(state: MessagesState):\n",
    "    return {\"messages\": [llm.invoke(state[\"messages\"][-1:])]}\n",
    "\n",
    "# Build graph\n",
    "builder = StateGraph(MessagesState)\n",
    "builder.add_node(\"chat_model\", chat_model_node)\n",
    "builder.add_edge(START, \"chat_model\")\n",
    "builder.add_edge(\"chat_model\", END)\n",
    "graph = builder.compile()\n",
    "\n",
    "# View\n",
    "display(Image(graph.get_graph().draw_mermaid_png()))"
   ]
  },
  {
   "cell_type": "markdown",
   "id": "6f58c6fc-532f-418d-b70a-cfcb3307daf5",
   "metadata": {},
   "source": [
    "Let's take our existing list of messages, append the above LLM response, and append a follow-up question."
   ]
  },
  {
   "cell_type": "code",
   "execution_count": 16,
   "id": "16956015-1dbe-4108-89b5-4209b68b51ca",
   "metadata": {},
   "outputs": [],
   "source": [
    "chat_track.append(output['messages'][-1])\n",
    "chat_track.append(HumanMessage(f\"Tell me more about Negotiation and Persuasion!\", name=\"Lance\"))"
   ]
  },
  {
   "cell_type": "code",
   "execution_count": 17,
   "id": "85563415-c085-46a8-a4ac-155df798c54e",
   "metadata": {},
   "outputs": [
    {
     "name": "stdout",
     "output_type": "stream",
     "text": [
      "==================================\u001b[1m Ai Message \u001b[0m==================================\n",
      "Name: Bot\n",
      "\n",
      "Hi.\n",
      "================================\u001b[1m Human Message \u001b[0m=================================\n",
      "Name: Lance\n",
      "\n",
      "Hi.\n",
      "==================================\u001b[1m Ai Message \u001b[0m==================================\n",
      "Name: Bot\n",
      "\n",
      "So you said you were researching reading people?\n",
      "================================\u001b[1m Human Message \u001b[0m=================================\n",
      "Name: Lance\n",
      "\n",
      "Yes, I was. But what's something else I should learn about?\n",
      "==================================\u001b[1m Ai Message \u001b[0m==================================\n",
      "\n",
      "Good — here are several useful directions you could learn next, organized by type. Each item has a short why and a quick way to get started.\n",
      "\n",
      "Social / interpersonal\n",
      "- Negotiation and persuasion — helps you get better outcomes in work and relationships. Start: read Never Split the Difference (Chris Voss) and practice small negotiations (prices, schedules).\n",
      "- Active listening & conflict resolution — makes reading people more actionable and builds trust. Start: practice reflective listening (repeat/paraphrase), take a short conflict-resolution or counseling-skills workshop.\n",
      "\n",
      "Thinking & decision-making\n",
      "- Mental models & critical thinking — improves judgement across domains. Start: read a primer (e.g., Farnam Street blog or Mental Models books) and apply one model per week to decisions.\n",
      "- Probabilistic thinking & forecasting — reduces overconfidence and improves predictions. Start: read Superforecasting (Tetlock) and try a prediction platform (Good Judgment Open).\n",
      "\n",
      "Psychology & behavior\n",
      "- Cognitive biases & behavior change — helps you understand why people (including you) act irrationally. Start: read Thinking, Fast and Slow (Kahneman) or Predictably Irrational (Ariely), and track a bias you notice each day.\n",
      "- Behavioral economics — useful for product design, persuasion, policy. Start: short Coursera course or read Nudge.\n",
      "\n",
      "Learning & memory\n",
      "- Meta-learning / learning how to learn — accelerates mastery of new skills. Start: read Make It Stick or take Coursera’s Learning How to Learn; apply spaced repetition (Anki).\n",
      "- Memory techniques (memory palace, mnemonics) — helpful for recall and presentations. Start: read Moonwalking with Einstein and practice memorizing short lists.\n",
      "\n",
      "Analytical / technical\n",
      "- Data literacy & basic statistics — lets you make evidence-based decisions. Start: a beginner statistics or data-analysis course (Coursera, DataCamp) and practice on small datasets.\n",
      "- Coding / automation — saves time and opens new capabilities. Start: learn Python basics (Automate the Boring Stuff with Python).\n",
      "\n",
      "Personal effectiveness & wellbeing\n",
      "- Emotional regulation & resilience — keeps you effective under stress. Start: mindfulness or CBT-based exercises, or read Emotional Agility (Susan David).\n",
      "- Time management & focus (deep work) — improves productivity. Start: read Deep Work (Cal Newport) and do 90-minute focused sessions.\n",
      "\n",
      "If you want one recommendation: if you’re already studying “reading people,” I’d suggest learning negotiation/persuasion next — it makes the insight you gain actually useful.\n",
      "\n",
      "Which of these appeals most, and how much time do you want to invest? I can give a 30‑day plan for any single topic.\n",
      "================================\u001b[1m Human Message \u001b[0m=================================\n",
      "Name: Lance\n",
      "\n",
      "Tell me more about Narwhals!\n",
      "==================================\u001b[1m Ai Message \u001b[0m==================================\n",
      "\n",
      "Good — here are several useful directions you could learn next, organized by type. Each item has a short why and a quick way to get started.\n",
      "\n",
      "Social / interpersonal\n",
      "- Negotiation and persuasion — helps you get better outcomes in work and relationships. Start: read Never Split the Difference (Chris Voss) and practice small negotiations (prices, schedules).\n",
      "- Active listening & conflict resolution — makes reading people more actionable and builds trust. Start: practice reflective listening (repeat/paraphrase), take a short conflict-resolution or counseling-skills workshop.\n",
      "\n",
      "Thinking & decision-making\n",
      "- Mental models & critical thinking — improves judgement across domains. Start: read a primer (e.g., Farnam Street blog or Mental Models books) and apply one model per week to decisions.\n",
      "- Probabilistic thinking & forecasting — reduces overconfidence and improves predictions. Start: read Superforecasting (Tetlock) and try a prediction platform (Good Judgment Open).\n",
      "\n",
      "Psychology & behavior\n",
      "- Cognitive biases & behavior change — helps you understand why people (including you) act irrationally. Start: read Thinking, Fast and Slow (Kahneman) or Predictably Irrational (Ariely), and track a bias you notice each day.\n",
      "- Behavioral economics — useful for product design, persuasion, policy. Start: short Coursera course or read Nudge.\n",
      "\n",
      "Learning & memory\n",
      "- Meta-learning / learning how to learn — accelerates mastery of new skills. Start: read Make It Stick or take Coursera’s Learning How to Learn; apply spaced repetition (Anki).\n",
      "- Memory techniques (memory palace, mnemonics) — helpful for recall and presentations. Start: read Moonwalking with Einstein and practice memorizing short lists.\n",
      "\n",
      "Analytical / technical\n",
      "- Data literacy & basic statistics — lets you make evidence-based decisions. Start: a beginner statistics or data-analysis course (Coursera, DataCamp) and practice on small datasets.\n",
      "- Coding / automation — saves time and opens new capabilities. Start: learn Python basics (Automate the Boring Stuff with Python).\n",
      "\n",
      "Personal effectiveness & wellbeing\n",
      "- Emotional regulation & resilience — keeps you effective under stress. Start: mindfulness or CBT-based exercises, or read Emotional Agility (Susan David).\n",
      "- Time management & focus (deep work) — improves productivity. Start: read Deep Work (Cal Newport) and do 90-minute focused sessions.\n",
      "\n",
      "If you want one recommendation: if you’re already studying “reading people,” I’d suggest learning negotiation/persuasion next — it makes the insight you gain actually useful.\n",
      "\n",
      "Which of these appeals most, and how much time do you want to invest? I can give a 30‑day plan for any single topic.\n",
      "================================\u001b[1m Human Message \u001b[0m=================================\n",
      "Name: Lance\n",
      "\n",
      "Tell me more about Negotiation and Persuasion!\n"
     ]
    }
   ],
   "source": [
    "for m in chat_track:\n",
    "    m.pretty_print()"
   ]
  },
  {
   "cell_type": "code",
   "execution_count": 18,
   "id": "23349705-a059-47b5-9760-d8f64e687393",
   "metadata": {},
   "outputs": [
    {
     "name": "stdout",
     "output_type": "stream",
     "text": [
      "================================\u001b[1m Human Message \u001b[0m=================================\n",
      "Name: Lance\n",
      "\n",
      "Tell me more about Narwhals!\n",
      "================================\u001b[1m Human Message \u001b[0m=================================\n",
      "Name: Lance\n",
      "\n",
      "Tell me more about Negotiation and Persuasion!\n",
      "==================================\u001b[1m Ai Message \u001b[0m==================================\n",
      "\n",
      "Nice — two fun topics. I’ll give a compact, useful summary of each: narwhals first, then negotiation & persuasion (principles, tactics, and practical tips you can use).\n",
      "\n",
      "Narwhals (Monodon monoceros)\n",
      "- What they are: Medium-sized Arctic toothed whales best known for the long spiral “tusk” protruding from the head of most males (sometimes females). They are sometimes called the “unicorns of the sea.”\n",
      "- Range & habitat: Arctic waters around Greenland, Canada (particularly Nunavut), and parts of Russia. They migrate seasonally between coastal summering areas (fjords) and offshore wintering in pack ice.\n",
      "- Size & lifespan: Adults are roughly 3–5 m long (tusks add length in males). Lifespan is typically a few decades (estimates often 30–50 years).\n",
      "- The tusk: The tusk is an elongated upper canine that can reach 2–3 m. It’s not primarily a weapon — research shows it’s a sensory organ with millions of nerve endings that detect changes in water temperature, pressure, and salinity; it may also play roles in social signaling and dominance.\n",
      "- Behavior & social structure: They live in groups (pods) that vary seasonally — small to large aggregations. They can dive very deep (recorded dives >1,000 m) and stay down for many minutes while foraging.\n",
      "- Diet: Fish (e.g., Arctic cod, Greenland halibut), shrimp, squid, and other Arctic prey taken during deep dives.\n",
      "- Predators & threats: Predators include killer whales and occasionally polar bears (on ice). Major threats are climate change (loss of sea ice affecting habitat and prey), increased human activity (shipping, oil/gas), noise disturbance, and hunting (regulated subsistence hunting by Indigenous communities). Conservation status (IUCN): concern due to environmental changes and hunting pressure; management focuses on science-based quotas and Indigenous co-management.\n",
      "- Fun facts: The tusk’s spiral pattern is unique; folklore linked narwhal tusks to unicorn horns in medieval Europe. They use sophisticated echolocation to navigate and hunt under ice.\n",
      "- Conservation note: Indigenous hunting is culturally and nutritionally important; many conservation efforts balance protection with local rights and monitoring.\n",
      "\n",
      "Negotiation and Persuasion\n",
      "- Definitions and difference:\n",
      "  - Negotiation: A structured back-and-forth process between two or more parties seeking an agreement where interests may partially conflict. Involves offers, counteroffers, trade-offs.\n",
      "  - Persuasion: Influencing someone’s beliefs, attitudes, or behavior (can be one-way or part of a negotiation). Persuasion techniques are used inside negotiation but also in sales, leadership, and everyday influence.\n",
      "- Foundational concepts:\n",
      "  - BATNA (Best Alternative To a Negotiated Agreement): Know your fallback — it tells you when to walk away.\n",
      "  - ZOPA (Zone of Possible Agreement): Overlap between parties’ acceptable outcomes.\n",
      "  - Anchoring: The first number offered strongly influences the negotiation range.\n",
      "  - Framing: How you present an option (gain vs loss) changes perception.\n",
      "  - Principled negotiation (Fisher & Ury): Separate people from the problem; focus on interests not positions; invent options for mutual gain; insist on objective criteria.\n",
      "- Key persuasion principles (Cialdini):\n",
      "  - Reciprocity, Scarcity, Authority, Consistency/Commitment, Liking, Social proof.\n",
      "- Communication & psychology techniques:\n",
      "  - Active listening and empathy: Rephrase, summarize, ask clarifying questions.\n",
      "  - Mirroring & labeling (from hostage-negotiation techniques): Repeat last words, label emotions to defuse tension (“It sounds like you’re concerned about X”).\n",
      "  - Framing and story: Use stories and frames that align the other party’s values/interests.\n",
      "  - Social proof and authority: Cite data, endorsements, relevant benchmarks.\n",
      "  - Scarcity and urgency: Use honestly — emphasize limited opportunities to motivate action.\n",
      "  - Anchors & counters: Make the first strong, justified offer when advantageous; if someone anchors, re-anchor with data or split the difference only when strategic.\n",
      "- Negotiation styles & tactics:\n",
      "  - Competitive (claim value) vs cooperative (create value). Most effective negotiators can switch styles.\n",
      "  - Concession strategy: Make small, strategic concessions; link concessions to reciprocation.\n",
      "  - Silence and calibrated questions: Silence after an offer often prompts more information; ask “How can we…?” to invite solutions.\n",
      "  - Bundling and trade-offs: Package multiple issues to create more win-win possibilities.\n",
      "  - Use objective standards: Benchmarks, market rates, precedents reduce conflict.\n",
      "- Practical step-by-step approach:\n",
      "  1. Prepare: Know your goals, BATNA, alternatives, priorities, and the other party’s likely needs.\n",
      "  2. Open: Build rapport, set a collaborative tone, state objectives.\n",
      "  3. Explore interests: Ask questions, uncover underlying motivations (not just positions).\n",
      "  4. Propose options: Offer multiple proposals with trade-offs; use objective criteria.\n",
      "  5. Bargain: Use anchoring, calibrated concessions, silence, and targeted persuasion.\n",
      "  6. Close & confirm: Put the agreement in writing; confirm next steps.\n",
      "  7. Follow up: Reinforce the relationship and ensure implementation.\n",
      "- Ethical considerations:\n",
      "  - Avoid deception, exploitative pressure, knowingly false claims, or manipulative techniques that harm trust. Long-term relationships often rely more on fair processes and integrity.\n",
      "- Quick scripts/examples:\n",
      "  - Salary counteroffer: “Based on market data for similar roles and my contributions X, I’m seeking $Y. If you can meet that, I’ll accept and commit to [specific goals].”\n",
      "  - When faced with a low anchor: “I appreciate that offer. According to X benchmark, a typical range is Y–Z. Can we explore a number closer to that? If not, what aspects can we improve to reach agreement?”\n",
      "  - Persuading a colleague: Use reciprocity + liking: do a small favor, then ask; follow with social proof (“Others in similar roles found X effective”), and a clear, low-effort next step.\n",
      "- Common pitfalls:\n",
      "  - Failing to prepare BATNA, becoming emotionally reactive, revealing your bottom line too soon, poor listening, over-anchoring without justification, ignoring relationship value.\n",
      "- Resources to learn more:\n",
      "  - Books: Getting to Yes (Fisher & Ury), Never Split the Difference (Chris Voss), Influence (Robert Cialdini).\n",
      "  - Practice: Role-play negotiations, record and reflect on outcomes, seek feedback.\n",
      "\n",
      "If you want, I can:\n",
      "- Go deeper on narwhal biology, migration maps, or conservation programs.\n",
      "- Run a short negotiation role-play (salary, contract, or sales) and coach your responses.\n",
      "- Provide a one-page negotiation prep checklist or a script tailored to a scenario you give. Which would you like next?\n"
     ]
    }
   ],
   "source": [
    "# Invoke, using message filtering\n",
    "output = graph.invoke({'messages': chat_track})\n",
    "for m in output['messages']:\n",
    "    m.pretty_print()"
   ]
  },
  {
   "cell_type": "markdown",
   "id": "42e1d8d2-e297-4d78-b54c-d12b3c866745",
   "metadata": {},
   "source": [
    "The state has all of the mesages.\n",
    "\n",
    "But, let's look at the LangSmith trace to see that the model invocation only uses the last message:\n",
    "\n",
    "https://smith.langchain.com/public/75aca3ce-ef19-4b92-94be-0178c7a660d9/r"
   ]
  },
  {
   "cell_type": "markdown",
   "id": "fc40d930-3c1f-47fe-8d2a-ce174873353c",
   "metadata": {},
   "source": [
    "## Trim messages\n",
    "\n",
    "Another approach is to [trim messages](https://python.langchain.com/v0.2/docs/how_to/trim_messages/#getting-the-last-max_tokens-tokens), based upon a set number of tokens. \n",
    "\n",
    "This restricts the message history to a specified number of tokens.\n",
    "\n",
    "While filtering only returns a post-hoc subset of the messages between agents, trimming restricts the number of tokens that a chat model can use to respond.\n",
    "\n",
    "See the `trim_messages` below."
   ]
  },
  {
   "cell_type": "code",
   "execution_count": 19,
   "id": "2ff99b81-cf03-4cc2-b44f-44829a73e1fd",
   "metadata": {},
   "outputs": [
    {
     "data": {
      "image/png": "[encoded data removed]",
      "text/plain": [
       "<IPython.core.display.Image object>"
      ]
     },
     "metadata": {},
     "output_type": "display_data"
    }
   ],
   "source": [
    "from langchain_core.messages import trim_messages\n",
    "\n",
    "# Node\n",
    "def chat_model_node(state: MessagesState):\n",
    "    messages = trim_messages(\n",
    "            state[\"messages\"],\n",
    "            max_tokens=100,\n",
    "            strategy=\"last\",\n",
    "            token_counter=ChatOpenAI(model=\"gpt-4o\"),\n",
    "            allow_partial=False,\n",
    "        )\n",
    "    return {\"messages\": [llm.invoke(messages)]}\n",
    "\n",
    "# Build graph\n",
    "builder = StateGraph(MessagesState)\n",
    "builder.add_node(\"chat_model\", chat_model_node)\n",
    "builder.add_edge(START, \"chat_model\")\n",
    "builder.add_edge(\"chat_model\", END)\n",
    "graph = builder.compile()\n",
    "\n",
    "# View\n",
    "display(Image(graph.get_graph().draw_mermaid_png()))"
   ]
  },
  {
   "cell_type": "code",
   "execution_count": 24,
   "id": "24df63ac-da29-4874-b3df-7e390e97cc8a",
   "metadata": {},
   "outputs": [],
   "source": [
    "chat_track.append(output['messages'][-1])\n",
    "chat_track.append(HumanMessage(f\"Tell me how to Critical Think!\", name=\"Lance\"))"
   ]
  },
  {
   "cell_type": "code",
   "execution_count": 25,
   "id": "6d9d8971-c75c-43ca-a209-eb1d07b2ead0",
   "metadata": {},
   "outputs": [
    {
     "data": {
      "text/plain": [
       "[HumanMessage(content='Tell me how to Critical Think!', additional_kwargs={}, response_metadata={}, name='Lance')]"
      ]
     },
     "execution_count": 25,
     "metadata": {},
     "output_type": "execute_result"
    }
   ],
   "source": [
    "# Example of trimming messages\n",
    "trim_messages(\n",
    "            chat_track,\n",
    "            max_tokens=100,\n",
    "            strategy=\"last\",\n",
    "            token_counter=ChatOpenAI(model=\"gpt-4o\"),\n",
    "            allow_partial=False\n",
    "        )"
   ]
  },
  {
   "cell_type": "code",
   "execution_count": 26,
   "id": "ed70a269-a869-4fa0-a1df-29736a432c51",
   "metadata": {},
   "outputs": [],
   "source": [
    "# Invoke, using message trimming in the chat_model_node \n",
    "messages_out_trim = graph.invoke({'messages': chat_track})"
   ]
  },
  {
   "cell_type": "markdown",
   "id": "38b3db67-380e-46b5-9a6a-20100ba52008",
   "metadata": {},
   "source": [
    "Let's look at the LangSmith trace to see the model invocation:\n",
    "\n",
    "https://smith.langchain.com/public/b153f7e9-f1a5-4d60-8074-f0d7ab5b42ef/r"
   ]
  }
 ],
 "metadata": {
  "kernelspec": {
   "display_name": "lc-academy-env",
   "language": "python",
   "name": "python3"
  },
  "language_info": {
   "codemirror_mode": {
    "name": "ipython",
    "version": 3
   },
   "file_extension": ".py",
   "mimetype": "text/x-python",
   "name": "python",
   "nbconvert_exporter": "python",
   "pygments_lexer": "ipython3",
   "version": "3.13.6"
  }
 },
 "nbformat": 4,
 "nbformat_minor": 5
}
